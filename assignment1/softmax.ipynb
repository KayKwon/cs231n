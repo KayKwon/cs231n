{
 "cells": [
  {
   "cell_type": "markdown",
   "metadata": {},
   "source": [
    "# Softmax exercise\n",
    "\n",
    "*Complete and hand in this completed worksheet (including its outputs and any supporting code outside of the worksheet) with your assignment submission. For more details see the [assignments page](http://vision.stanford.edu/teaching/cs231n/assignments.html) on the course website.*\n",
    "\n",
    "This exercise is analogous to the SVM exercise. You will:\n",
    "\n",
    "- implement a fully-vectorized **loss function** for the Softmax classifier\n",
    "- implement the fully-vectorized expression for its **analytic gradient**\n",
    "- **check your implementation** with numerical gradient\n",
    "- use a validation set to **tune the learning rate and regularization** strength\n",
    "- **optimize** the loss function with **SGD**\n",
    "- **visualize** the final learned weights\n"
   ]
  },
  {
   "cell_type": "code",
   "execution_count": 1,
   "metadata": {},
   "outputs": [],
   "source": [
    "import random\n",
    "import numpy as np\n",
    "from cs231n.data_utils import load_CIFAR10\n",
    "import matplotlib.pyplot as plt\n",
    "%matplotlib inline\n",
    "plt.rcParams['figure.figsize'] = (10.0, 8.0) # set default size of plots\n",
    "plt.rcParams['image.interpolation'] = 'nearest'\n",
    "plt.rcParams['image.cmap'] = 'gray'\n",
    "\n",
    "# for auto-reloading extenrnal modules\n",
    "# see http://stackoverflow.com/questions/1907993/autoreload-of-modules-in-ipython\n",
    "%load_ext autoreload\n",
    "%autoreload 2"
   ]
  },
  {
   "cell_type": "code",
   "execution_count": 2,
   "metadata": {},
   "outputs": [
    {
     "name": "stdout",
     "output_type": "stream",
     "text": [
      "Train data shape:  (49000, 3073)\n",
      "Train labels shape:  (49000,)\n",
      "Validation data shape:  (1000, 3073)\n",
      "Validation labels shape:  (1000,)\n",
      "Test data shape:  (1000, 3073)\n",
      "Test labels shape:  (1000,)\n",
      "dev data shape:  (500, 3073)\n",
      "dev labels shape:  (500,)\n"
     ]
    }
   ],
   "source": [
    "def get_CIFAR10_data(num_training=49000, num_validation=1000, num_test=1000, num_dev=500):\n",
    "  \"\"\"\n",
    "  Load the CIFAR-10 dataset from disk and perform preprocessing to prepare\n",
    "  it for the linear classifier. These are the same steps as we used for the\n",
    "  SVM, but condensed to a single function.  \n",
    "  \"\"\"\n",
    "  # Load the raw CIFAR-10 data\n",
    "  cifar10_dir = 'cs231n/datasets/cifar-10-batches-py'\n",
    "  X_train, y_train, X_test, y_test = load_CIFAR10(cifar10_dir)\n",
    "  \n",
    "  # subsample the data\n",
    "  mask = range(num_training, num_training + num_validation)\n",
    "  X_val = X_train[mask]\n",
    "  y_val = y_train[mask]\n",
    "  mask = range(num_training)\n",
    "  X_train = X_train[mask]\n",
    "  y_train = y_train[mask]\n",
    "  mask = range(num_test)\n",
    "  X_test = X_test[mask]\n",
    "  y_test = y_test[mask]\n",
    "  mask = np.random.choice(num_training, num_dev, replace=False)\n",
    "  X_dev = X_train[mask]\n",
    "  y_dev = y_train[mask]\n",
    "  \n",
    "  # Preprocessing: reshape the image data into rows\n",
    "  X_train = np.reshape(X_train, (X_train.shape[0], -1))\n",
    "  X_val = np.reshape(X_val, (X_val.shape[0], -1))\n",
    "  X_test = np.reshape(X_test, (X_test.shape[0], -1))\n",
    "  X_dev = np.reshape(X_dev, (X_dev.shape[0], -1))\n",
    "  \n",
    "  # Normalize the data: subtract the mean image\n",
    "  mean_image = np.mean(X_train, axis = 0)\n",
    "  X_train -= mean_image\n",
    "  X_val -= mean_image\n",
    "  X_test -= mean_image\n",
    "  X_dev -= mean_image\n",
    "  \n",
    "  # add bias dimension and transform into columns\n",
    "  X_train = np.hstack([X_train, np.ones((X_train.shape[0], 1))])\n",
    "  X_val = np.hstack([X_val, np.ones((X_val.shape[0], 1))])\n",
    "  X_test = np.hstack([X_test, np.ones((X_test.shape[0], 1))])\n",
    "  X_dev = np.hstack([X_dev, np.ones((X_dev.shape[0], 1))])\n",
    "  \n",
    "  return X_train, y_train, X_val, y_val, X_test, y_test, X_dev, y_dev\n",
    "\n",
    "\n",
    "# Invoke the above function to get our data.\n",
    "X_train, y_train, X_val, y_val, X_test, y_test, X_dev, y_dev = get_CIFAR10_data()\n",
    "print('Train data shape: ', X_train.shape)\n",
    "print('Train labels shape: ', y_train.shape)\n",
    "print('Validation data shape: ', X_val.shape)\n",
    "print('Validation labels shape: ', y_val.shape)\n",
    "print('Test data shape: ', X_test.shape)\n",
    "print('Test labels shape: ', y_test.shape)\n",
    "print('dev data shape: ', X_dev.shape)\n",
    "print('dev labels shape: ', y_dev.shape)"
   ]
  },
  {
   "cell_type": "markdown",
   "metadata": {},
   "source": [
    "## Softmax Classifier\n",
    "\n",
    "Your code for this section will all be written inside **cs231n/classifiers/softmax.py**. \n"
   ]
  },
  {
   "cell_type": "code",
   "execution_count": 3,
   "metadata": {},
   "outputs": [
    {
     "name": "stdout",
     "output_type": "stream",
     "text": [
      "loss: 2.353873\n",
      "sanity check: 2.302585\n",
      "[[-1.43503292e+00  1.20787779e+00 -5.58492096e-01 ...  6.74271983e-02\n",
      "  -2.55097663e+00 -4.44155812e+00]\n",
      " [-2.20476953e+00  1.94625070e+00 -1.23579014e+00 ... -4.98604327e-03\n",
      "  -3.77350737e+00 -4.86179221e+00]\n",
      " [-3.53720097e+00  1.30223061e+00 -3.89293477e-01 ...  2.82015786e-02\n",
      "  -5.46124065e+00 -5.83831598e+00]\n",
      " ...\n",
      " [ 2.00683645e-01  2.19594116e+00 -2.57734548e+00 ... -1.98175594e+00\n",
      "   1.10063990e+00 -1.74310587e+00]\n",
      " [-1.13281803e+00  6.65593400e-01 -1.87059461e+00 ... -2.85961106e-01\n",
      "  -6.00786440e-01 -2.13126074e+00]\n",
      " [ 1.57267604e-02 -1.13628147e-02  3.45491264e-03 ... -2.44988630e-02\n",
      "  -1.61161260e-03  3.63865871e-03]]\n"
     ]
    }
   ],
   "source": [
    "# First implement the naive softmax loss function with nested loops.\n",
    "# Open the file cs231n/classifiers/softmax.py and implement the\n",
    "# softmax_loss_naive function.\n",
    "\n",
    "from cs231n.classifiers.softmax import softmax_loss_naive\n",
    "import time\n",
    "\n",
    "# Generate a random softmax weight matrix and use it to compute the loss.\n",
    "W = np.random.randn(3073, 10) * 0.0001\n",
    "loss, grad = softmax_loss_naive(W, X_dev, y_dev, 0.0)\n",
    "\n",
    "# As a rough sanity check, our loss should be something close to -log(0.1).\n",
    "print('loss: %f' % loss)\n",
    "print('sanity check: %f' % (-np.log(0.1)))\n",
    "print(grad)"
   ]
  },
  {
   "cell_type": "markdown",
   "metadata": {},
   "source": [
    "## Inline Question 1:\n",
    "Why do we expect our loss to be close to -log(0.1)? Explain briefly.**\n",
    "\n",
    "**Your answer:** *Fill this in*\n",
    "\n",
    "Since we choose randomly in 10 classes, such as roll the ten-eyes dices, expection value should be 0.1."
   ]
  },
  {
   "cell_type": "code",
   "execution_count": 4,
   "metadata": {},
   "outputs": [
    {
     "name": "stdout",
     "output_type": "stream",
     "text": [
      "numerical: 3.076154 analytic: 3.076154, relative error: 1.240212e-08\n",
      "numerical: 1.719137 analytic: 1.719137, relative error: 3.398000e-08\n",
      "numerical: 3.242125 analytic: 3.242125, relative error: 2.270413e-08\n",
      "numerical: 0.248773 analytic: 0.248773, relative error: 7.983540e-08\n",
      "numerical: -2.605070 analytic: -2.605070, relative error: 2.983836e-10\n",
      "numerical: -0.328468 analytic: -0.328468, relative error: 6.296002e-08\n",
      "numerical: 3.527279 analytic: 3.527279, relative error: 1.371111e-08\n",
      "numerical: 0.377115 analytic: 0.377115, relative error: 6.228355e-08\n",
      "numerical: -1.871091 analytic: -1.871091, relative error: 4.604846e-09\n",
      "numerical: -0.495293 analytic: -0.495294, relative error: 1.527492e-07\n",
      "====\n",
      "numerical: -1.905658 analytic: -1.905658, relative error: 8.084792e-09\n",
      "numerical: 2.603440 analytic: 2.603440, relative error: 2.896715e-08\n",
      "numerical: 0.913604 analytic: 0.913604, relative error: 4.377485e-08\n",
      "numerical: -1.543381 analytic: -1.543381, relative error: 7.656807e-09\n",
      "numerical: 2.455229 analytic: 2.455229, relative error: 5.353570e-09\n",
      "numerical: -0.216903 analytic: -0.216903, relative error: 2.460198e-07\n",
      "numerical: -0.187812 analytic: -0.187812, relative error: 2.626690e-07\n",
      "numerical: 3.685305 analytic: 3.685305, relative error: 1.752106e-08\n",
      "numerical: 0.836490 analytic: 0.836490, relative error: 1.913132e-08\n",
      "numerical: -1.704144 analytic: -1.704144, relative error: 1.540044e-08\n"
     ]
    }
   ],
   "source": [
    "# Complete the implementation of softmax_loss_naive and implement a (naive)\n",
    "# version of the gradient that uses nested loops.\n",
    "loss, grad = softmax_loss_naive(W, X_dev, y_dev, 0.0)\n",
    "\n",
    "# As we did for the SVM, use numeric gradient checking as a debugging tool.\n",
    "# The numeric gradient should be close to the analytic gradient.\n",
    "from cs231n.gradient_check import grad_check_sparse\n",
    "f = lambda w: softmax_loss_naive(w, X_dev, y_dev, 0.0)[0]\n",
    "grad_numerical = grad_check_sparse(f, W, grad, 10)\n",
    "print('====')\n",
    "# similar to SVM case, do another gradient check with regularization\n",
    "loss, grad = softmax_loss_naive(W, X_dev, y_dev, 1e2)\n",
    "f = lambda w: softmax_loss_naive(w, X_dev, y_dev, 1e2)[0]\n",
    "grad_numerical = grad_check_sparse(f, W, grad, 10)"
   ]
  },
  {
   "cell_type": "code",
   "execution_count": 5,
   "metadata": {},
   "outputs": [
    {
     "name": "stdout",
     "output_type": "stream",
     "text": [
      "naive loss: 2.353873e+00 computed in 0.081660s\n",
      "vectorized loss: 2.353873e+00 computed in 0.002118s\n",
      "Loss difference: 0.000000\n",
      "Gradient difference: 0.000000\n"
     ]
    }
   ],
   "source": [
    "# Now that we have a naive implementation of the softmax loss function and its gradient,\n",
    "# implement a vectorized version in softmax_loss_vectorized.\n",
    "# The two versions should compute the same results, but the vectorized version should be\n",
    "# much faster.\n",
    "tic = time.time()\n",
    "loss_naive, grad_naive = softmax_loss_naive(W, X_dev, y_dev, 0.00001)\n",
    "toc = time.time()\n",
    "print('naive loss: %e computed in %fs' % (loss_naive, toc - tic))\n",
    "\n",
    "from cs231n.classifiers.softmax import softmax_loss_vectorized\n",
    "tic = time.time()\n",
    "loss_vectorized, grad_vectorized = softmax_loss_vectorized(W, X_dev, y_dev, 0.00001)\n",
    "toc = time.time()\n",
    "print('vectorized loss: %e computed in %fs' % (loss_vectorized, toc - tic))\n",
    "\n",
    "# As we did for the SVM, we use the Frobenius norm to compare the two versions\n",
    "# of the gradient.\n",
    "grad_difference = np.linalg.norm(grad_naive - grad_vectorized, ord='fro')\n",
    "print('Loss difference: %f' % np.abs(loss_naive - loss_vectorized))\n",
    "print('Gradient difference: %f' % grad_difference)"
   ]
  },
  {
   "cell_type": "code",
   "execution_count": 6,
   "metadata": {},
   "outputs": [
    {
     "name": "stdout",
     "output_type": "stream",
     "text": [
      "iteration 0 / 1500: loss 776.206010\n",
      "iteration 100 / 1500: loss 284.887620\n",
      "iteration 200 / 1500: loss 105.406081\n",
      "iteration 300 / 1500: loss 39.904183\n",
      "iteration 400 / 1500: loss 15.913320\n",
      "iteration 500 / 1500: loss 7.141571\n",
      "iteration 600 / 1500: loss 3.920972\n",
      "iteration 700 / 1500: loss 2.767948\n",
      "iteration 800 / 1500: loss 2.374868\n",
      "iteration 900 / 1500: loss 2.172309\n",
      "iteration 1000 / 1500: loss 2.115785\n",
      "iteration 1100 / 1500: loss 2.135130\n",
      "iteration 1200 / 1500: loss 2.096933\n",
      "iteration 1300 / 1500: loss 2.053600\n",
      "iteration 1400 / 1500: loss 2.010447\n",
      "That took 3.166737s\n"
     ]
    }
   ],
   "source": [
    "from cs231n.classifiers import Softmax\n",
    "softmax = Softmax()\n",
    "tic = time.time()\n",
    "loss_hist = softmax.train(X_train, y_train, learning_rate=1e-7, reg=5e4,\n",
    "                      num_iters=1500, verbose=True)\n",
    "toc = time.time()\n",
    "print('That took %fs' % (toc - tic))"
   ]
  },
  {
   "cell_type": "code",
   "execution_count": 7,
   "metadata": {},
   "outputs": [
    {
     "data": {
      "image/png": "[encoded data removed]",
      "text/plain": [
       "<Figure size 432x288 with 1 Axes>"
      ]
     },
     "metadata": {
      "needs_background": "light"
     },
     "output_type": "display_data"
    }
   ],
   "source": [
    "# A useful debugging strategy is to plot the loss as a function of\n",
    "# iteration number:\n",
    "plt.plot(loss_hist)\n",
    "plt.xlabel('Iteration number')\n",
    "plt.ylabel('Loss value')\n",
    "plt.show()"
   ]
  },
  {
   "cell_type": "code",
   "execution_count": 8,
   "metadata": {},
   "outputs": [
    {
     "name": "stdout",
     "output_type": "stream",
     "text": [
      "training accuracy: 0.329816\n",
      "validation accuracy: 0.349000\n"
     ]
    }
   ],
   "source": [
    "# Write the LinearSVM.predict function and evaluate the performance on both the\n",
    "# training and validation set\n",
    "y_train_pred = softmax.predict(X_train)\n",
    "print('training accuracy: %f' % (np.mean(y_train == y_train_pred), ))\n",
    "y_val_pred = softmax.predict(X_val)\n",
    "print('validation accuracy: %f' % (np.mean(y_val == y_val_pred), ))"
   ]
  },
  {
   "cell_type": "code",
   "execution_count": 9,
   "metadata": {},
   "outputs": [
    {
     "name": "stdout",
     "output_type": "stream",
     "text": [
      "iteration 0 / 300: loss 2.015709\n",
      "iteration 100 / 300: loss 2.114036\n",
      "iteration 200 / 300: loss 2.096802\n",
      "training accuracy: 0.329408\n",
      "validation accuracy: 0.344000\n",
      "iteration 0 / 300: loss 2.101940\n",
      "iteration 100 / 300: loss 2.070977\n",
      "iteration 200 / 300: loss 1.986928\n",
      "training accuracy: 0.329551\n",
      "validation accuracy: 0.344000\n",
      "iteration 0 / 300: loss 2.115467\n",
      "iteration 100 / 300: loss 2.054394\n",
      "iteration 200 / 300: loss 2.102566\n",
      "training accuracy: 0.332000\n",
      "validation accuracy: 0.352000\n",
      "iteration 0 / 300: loss 2.127291\n",
      "iteration 100 / 300: loss 2.052545\n",
      "iteration 200 / 300: loss 2.118579\n",
      "training accuracy: 0.330469\n",
      "validation accuracy: 0.352000\n",
      "iteration 0 / 300: loss 2.066844\n",
      "iteration 100 / 300: loss 2.033741\n",
      "iteration 200 / 300: loss 2.097456\n",
      "training accuracy: 0.325469\n",
      "validation accuracy: 0.344000\n",
      "iteration 0 / 300: loss 2.103668\n",
      "iteration 100 / 300: loss 2.063156\n",
      "iteration 200 / 300: loss 2.140603\n",
      "training accuracy: 0.331429\n",
      "validation accuracy: 0.346000\n",
      "iteration 0 / 300: loss 2.062418\n",
      "iteration 100 / 300: loss 2.098529\n",
      "iteration 200 / 300: loss 2.073798\n",
      "training accuracy: 0.331041\n",
      "validation accuracy: 0.343000\n",
      "iteration 0 / 300: loss 2.070648\n",
      "iteration 100 / 300: loss 2.021112\n",
      "iteration 200 / 300: loss 2.082303\n",
      "training accuracy: 0.328755\n",
      "validation accuracy: 0.343000\n",
      "iteration 0 / 300: loss 2.088570\n",
      "iteration 100 / 300: loss 2.048514\n",
      "iteration 200 / 300: loss 2.019954\n",
      "training accuracy: 0.328429\n",
      "validation accuracy: 0.341000\n",
      "iteration 0 / 300: loss 2.067796\n",
      "iteration 100 / 300: loss 2.023470\n",
      "iteration 200 / 300: loss 2.094478\n",
      "training accuracy: 0.333633\n",
      "validation accuracy: 0.348000\n",
      "iteration 0 / 300: loss 2.082663\n",
      "iteration 100 / 300: loss 2.052439\n",
      "iteration 200 / 300: loss 2.028404\n",
      "training accuracy: 0.324878\n",
      "validation accuracy: 0.346000\n",
      "iteration 0 / 300: loss 2.076888\n",
      "iteration 100 / 300: loss 2.072405\n",
      "iteration 200 / 300: loss 2.071747\n",
      "training accuracy: 0.329408\n",
      "validation accuracy: 0.340000\n",
      "lr 1.000000e-07 reg 1.000000e+04 train accuracy: 0.329551 val accuracy: 0.344000\n",
      "lr 1.000000e-07 reg 5.000000e+04 train accuracy: 0.329408 val accuracy: 0.344000\n",
      "lr 1.000000e-07 reg 1.000000e+05 train accuracy: 0.332000 val accuracy: 0.352000\n",
      "lr 1.000000e-06 reg 1.000000e+04 train accuracy: 0.325469 val accuracy: 0.344000\n",
      "lr 1.000000e-06 reg 5.000000e+04 train accuracy: 0.330469 val accuracy: 0.352000\n",
      "lr 1.000000e-06 reg 1.000000e+05 train accuracy: 0.331429 val accuracy: 0.346000\n",
      "lr 1.000000e-05 reg 1.000000e+04 train accuracy: 0.328755 val accuracy: 0.343000\n",
      "lr 1.000000e-05 reg 5.000000e+04 train accuracy: 0.331041 val accuracy: 0.343000\n",
      "lr 1.000000e-05 reg 1.000000e+05 train accuracy: 0.328429 val accuracy: 0.341000\n",
      "lr 5.000000e-05 reg 1.000000e+04 train accuracy: 0.324878 val accuracy: 0.346000\n",
      "lr 5.000000e-05 reg 5.000000e+04 train accuracy: 0.333633 val accuracy: 0.348000\n",
      "lr 5.000000e-05 reg 1.000000e+05 train accuracy: 0.329408 val accuracy: 0.340000\n",
      "best validation accuracy achieved during cross-validation: 0.352000\n"
     ]
    }
   ],
   "source": [
    "# Use the validation set to tune hyperparameters (regularization strength and\n",
    "# learning rate). You should experiment with different ranges for the learning\n",
    "# rates and regularization strengths; if you are careful you should be able to\n",
    "# get a classification accuracy of over 0.35 on the validation set.\n",
    "from cs231n.classifiers import Softmax\n",
    "results = {}\n",
    "best_val = -1\n",
    "best_softmax = None\n",
    "learning_rates = [1e-7, 1e-6, 1e-5, 5e-5]\n",
    "regularization_strengths = [5e4, 1e4, 1e5]\n",
    "#learning_rates = [1e-7, 5e-7]\n",
    "#regularization_strengths = [5e4, 1e8]\n",
    "\n",
    "################################################################################\n",
    "# TODO:                                                                        #\n",
    "# Use the validation set to set the learning rate and regularization strength. #\n",
    "# This should be identical to the validation that you did for the SVM; save    #\n",
    "# the best trained softmax classifer in best_softmax.                          #\n",
    "################################################################################\n",
    "for lr in learning_rates: \n",
    "    for reg in regularization_strengths:\n",
    "        loss_hist = softmax.train(X_train, y_train, learning_rate=1e-7, reg=5e4, num_iters=300, verbose=True)\n",
    "        y_train_pred = softmax.predict(X_train)\n",
    "        train_accuracy = np.mean(y_train == y_train_pred)\n",
    "        print('training accuracy: %f' % (np.mean(y_train == y_train_pred), ))\n",
    "        y_val_pred = softmax.predict(X_val)\n",
    "        val_accuracy = np.mean(y_val == y_val_pred)\n",
    "        print('validation accuracy: %f' % (np.mean(y_val == y_val_pred), ))\n",
    "        results[(lr, reg)] = (train_accuracy, val_accuracy)\n",
    "        if best_val < val_accuracy:\n",
    "            best_val = val_accuracy\n",
    "            best_softmax = softmax\n",
    "################################################################################\n",
    "#                              END OF YOUR CODE                                #\n",
    "################################################################################\n",
    "    \n",
    "# Print out results.\n",
    "for lr, reg in sorted(results):\n",
    "    train_accuracy, val_accuracy = results[(lr, reg)]\n",
    "    print('lr %e reg %e train accuracy: %f val accuracy: %f' % (\n",
    "                lr, reg, train_accuracy, val_accuracy))\n",
    "    \n",
    "print('best validation accuracy achieved during cross-validation: %f' % best_val)"
   ]
  },
  {
   "cell_type": "code",
   "execution_count": 10,
   "metadata": {},
   "outputs": [
    {
     "name": "stdout",
     "output_type": "stream",
     "text": [
      "softmax on raw pixels final test set accuracy: 0.342000\n"
     ]
    }
   ],
   "source": [
    "# evaluate on test set\n",
    "# Evaluate the best softmax on test set\n",
    "y_test_pred = best_softmax.predict(X_test)\n",
    "test_accuracy = np.mean(y_test == y_test_pred)\n",
    "print('softmax on raw pixels final test set accuracy: %f' % (test_accuracy, ))"
   ]
  },
  {
   "cell_type": "code",
   "execution_count": 11,
   "metadata": {},
   "outputs": [
    {
     "data": {
      "image/png": "[encoded data removed]",
      "text/plain": [
       "<Figure size 432x288 with 10 Axes>"
      ]
     },
     "metadata": {
      "needs_background": "light"
     },
     "output_type": "display_data"
    }
   ],
   "source": [
    "# Visualize the learned weights for each class\n",
    "w = best_softmax.W[:-1,:] # strip out the bias\n",
    "w = w.reshape(32, 32, 3, 10)\n",
    "\n",
    "w_min, w_max = np.min(w), np.max(w)\n",
    "\n",
    "classes = ['plane', 'car', 'bird', 'cat', 'deer', 'dog', 'frog', 'horse', 'ship', 'truck']\n",
    "for i in range(10):\n",
    "  plt.subplot(2, 5, i + 1)\n",
    "  \n",
    "  # Rescale the weights to be between 0 and 255\n",
    "  wimg = 255.0 * (w[:, :, :, i].squeeze() - w_min) / (w_max - w_min)\n",
    "  plt.imshow(wimg.astype('uint8'))\n",
    "  plt.axis('off')\n",
    "  plt.title(classes[i])"
   ]
  }
 ],
 "metadata": {
  "kernelspec": {
   "display_name": "Python 3",
   "language": "python",
   "name": "python3"
  },
  "language_info": {
   "codemirror_mode": {
    "name": "ipython",
    "version": 3
   },
   "file_extension": ".py",
   "mimetype": "text/x-python",
   "name": "python",
   "nbconvert_exporter": "python",
   "pygments_lexer": "ipython3",
   "version": "3.6.7"
  }
 },
 "nbformat": 4,
 "nbformat_minor": 1
}
